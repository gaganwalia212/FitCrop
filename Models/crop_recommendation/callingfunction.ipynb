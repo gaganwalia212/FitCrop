{
 "cells": [
  {
   "cell_type": "code",
   "execution_count": 1,
   "id": "6a721974",
   "metadata": {},
   "outputs": [],
   "source": [
    "import joblib"
   ]
  },
  {
   "cell_type": "code",
   "execution_count": 16,
   "id": "fabf10d4",
   "metadata": {},
   "outputs": [],
   "source": [
    "rj=joblib.load('./result_naive')"
   ]
  },
  {
   "cell_type": "code",
   "execution_count": 17,
   "id": "194888d5",
   "metadata": {},
   "outputs": [],
   "source": [
    "rj1=joblib.load('./result_joblib')"
   ]
  },
  {
   "cell_type": "code",
   "execution_count": 18,
   "id": "38cc29d5",
   "metadata": {},
   "outputs": [],
   "source": [
    "rj2=joblib.load('./result_svm')"
   ]
  },
  {
   "cell_type": "code",
   "execution_count": 31,
   "id": "fd037760",
   "metadata": {},
   "outputs": [
    {
     "name": "stdout",
     "output_type": "stream",
     "text": [
      "Enter corresponding feature value:83\n",
      "Enter corresponding feature value:45\n",
      "Enter corresponding feature value:60\n",
      "Enter corresponding feature value:28\n",
      "Enter corresponding feature value:70.3\n",
      "Enter corresponding feature value:7.0\n",
      "Enter corresponding feature value:150.9\n",
      "['jute']\n"
     ]
    },
    {
     "name": "stderr",
     "output_type": "stream",
     "text": [
      "D:\\Anaconda\\lib\\site-packages\\sklearn\\base.py:450: UserWarning: X does not have valid feature names, but DecisionTreeClassifier was fitted with feature names\n",
      "  warnings.warn(\n"
     ]
    }
   ],
   "source": [
    "\n",
    "def prediction():\n",
    " rows, cols = (1, 7)\n",
    " arr=[]\n",
    "\n",
    " for i in range(rows):\n",
    "    col = []\n",
    "    for j in range(cols):\n",
    "         y = input(\"Enter corresponding feature value:\")\n",
    "         col.append(y)\n",
    "    arr.append(col)  \n",
    " print(rj1.predict(arr))\n",
    "\n",
    "prediction()    "
   ]
  },
  {
   "cell_type": "markdown",
   "id": "72600e1e",
   "metadata": {},
   "source": [
    "##### "
   ]
  },
  {
   "cell_type": "code",
   "execution_count": 29,
   "id": "b62f6464",
   "metadata": {},
   "outputs": [
    {
     "name": "stdout",
     "output_type": "stream",
     "text": [
      "Enter corresponding feature value:83\n",
      "Enter corresponding feature value:45\n",
      "Enter corresponding feature value:60\n",
      "Enter corresponding feature value:28\n",
      "Enter corresponding feature value:70.3\n",
      "Enter corresponding feature value:7.0\n",
      "Enter corresponding feature value:150.9\n",
      "[['83', '45', '60', '28', '70.3', '7.0', '150.9']]\n"
     ]
    }
   ],
   "source": [
    "rows, cols = (1, 7)\n",
    "arr=[]\n",
    "for i in range(rows):\n",
    "    col = []\n",
    "    for j in range(cols):\n",
    "         y = input(\"Enter corresponding feature value:\")\n",
    "         col.append(y)\n",
    "    arr.append(col)\n",
    "print(arr)"
   ]
  },
  {
   "cell_type": "code",
   "execution_count": null,
   "id": "6dc1bcc6",
   "metadata": {},
   "outputs": [],
   "source": []
  }
 ],
 "metadata": {
  "kernelspec": {
   "display_name": "Python 3",
   "language": "python",
   "name": "python3"
  },
  "language_info": {
   "codemirror_mode": {
    "name": "ipython",
    "version": 3
   },
   "file_extension": ".py",
   "mimetype": "text/x-python",
   "name": "python",
   "nbconvert_exporter": "python",
   "pygments_lexer": "ipython3",
   "version": "3.8.8"
  }
 },
 "nbformat": 4,
 "nbformat_minor": 5
}
