{
 "cells": [
  {
   "cell_type": "code",
   "execution_count": 1,
   "id": "6b3fc20e",
   "metadata": {},
   "outputs": [],
   "source": [
    "import numpy as np\n",
    "import matplotlib.pyplot as plt\n",
    "import pandas as pd\n",
    "import seaborn as sns\n",
    "from sklearn.feature_selection import SelectKBest\n",
    "from sklearn.feature_selection import f_classif,chi2\n",
    "from sklearn.model_selection import train_test_split\n",
    "from sklearn.metrics import confusion_matrix\n",
    "from sklearn import metrics"
   ]
  },
  {
   "cell_type": "markdown",
   "id": "e44b3642",
   "metadata": {},
   "source": [
    "## Remove temperature, humidity, moisture, soil type"
   ]
  },
  {
   "cell_type": "code",
   "execution_count": 5,
   "id": "511051c0",
   "metadata": {},
   "outputs": [],
   "source": [
    "cross_val_scores=dict()\n",
    "test_scores=dict()\n",
    "train_scores=dict()"
   ]
  },
  {
   "cell_type": "code",
   "execution_count": 118,
   "id": "a46550f1",
   "metadata": {},
   "outputs": [],
   "source": [
    "data=pd.read_csv(\"Dataset/fertilizer/Fertilizer Prediction.csv\")"
   ]
  },
  {
   "cell_type": "code",
   "execution_count": 119,
   "id": "b6cafed4",
   "metadata": {},
   "outputs": [
    {
     "data": {
      "text/html": [
       "<div>\n",
       "<style scoped>\n",
       "    .dataframe tbody tr th:only-of-type {\n",
       "        vertical-align: middle;\n",
       "    }\n",
       "\n",
       "    .dataframe tbody tr th {\n",
       "        vertical-align: top;\n",
       "    }\n",
       "\n",
       "    .dataframe thead th {\n",
       "        text-align: right;\n",
       "    }\n",
       "</style>\n",
       "<table border=\"1\" class=\"dataframe\">\n",
       "  <thead>\n",
       "    <tr style=\"text-align: right;\">\n",
       "      <th></th>\n",
       "      <th>Temparature</th>\n",
       "      <th>Humidity</th>\n",
       "      <th>Moisture</th>\n",
       "      <th>Soil Type</th>\n",
       "      <th>Crop Type</th>\n",
       "      <th>Nitrogen</th>\n",
       "      <th>Potassium</th>\n",
       "      <th>Phosphorous</th>\n",
       "      <th>Fertilizer Name</th>\n",
       "    </tr>\n",
       "  </thead>\n",
       "  <tbody>\n",
       "    <tr>\n",
       "      <th>0</th>\n",
       "      <td>26</td>\n",
       "      <td>52</td>\n",
       "      <td>38</td>\n",
       "      <td>Sandy</td>\n",
       "      <td>Maize</td>\n",
       "      <td>37</td>\n",
       "      <td>0</td>\n",
       "      <td>0</td>\n",
       "      <td>Urea</td>\n",
       "    </tr>\n",
       "    <tr>\n",
       "      <th>1</th>\n",
       "      <td>29</td>\n",
       "      <td>52</td>\n",
       "      <td>45</td>\n",
       "      <td>Loamy</td>\n",
       "      <td>Sugarcane</td>\n",
       "      <td>12</td>\n",
       "      <td>0</td>\n",
       "      <td>36</td>\n",
       "      <td>DAP</td>\n",
       "    </tr>\n",
       "    <tr>\n",
       "      <th>2</th>\n",
       "      <td>34</td>\n",
       "      <td>65</td>\n",
       "      <td>62</td>\n",
       "      <td>Black</td>\n",
       "      <td>Cotton</td>\n",
       "      <td>7</td>\n",
       "      <td>9</td>\n",
       "      <td>30</td>\n",
       "      <td>14-35-14</td>\n",
       "    </tr>\n",
       "    <tr>\n",
       "      <th>3</th>\n",
       "      <td>32</td>\n",
       "      <td>62</td>\n",
       "      <td>34</td>\n",
       "      <td>Red</td>\n",
       "      <td>Tobacco</td>\n",
       "      <td>22</td>\n",
       "      <td>0</td>\n",
       "      <td>20</td>\n",
       "      <td>28-28</td>\n",
       "    </tr>\n",
       "    <tr>\n",
       "      <th>4</th>\n",
       "      <td>28</td>\n",
       "      <td>54</td>\n",
       "      <td>46</td>\n",
       "      <td>Clayey</td>\n",
       "      <td>Paddy</td>\n",
       "      <td>35</td>\n",
       "      <td>0</td>\n",
       "      <td>0</td>\n",
       "      <td>Urea</td>\n",
       "    </tr>\n",
       "  </tbody>\n",
       "</table>\n",
       "</div>"
      ],
      "text/plain": [
       "   Temparature  Humidity   Moisture Soil Type  Crop Type  Nitrogen  Potassium  \\\n",
       "0           26         52        38     Sandy      Maize        37          0   \n",
       "1           29         52        45     Loamy  Sugarcane        12          0   \n",
       "2           34         65        62     Black     Cotton         7          9   \n",
       "3           32         62        34       Red    Tobacco        22          0   \n",
       "4           28         54        46    Clayey      Paddy        35          0   \n",
       "\n",
       "   Phosphorous Fertilizer Name  \n",
       "0            0            Urea  \n",
       "1           36             DAP  \n",
       "2           30        14-35-14  \n",
       "3           20           28-28  \n",
       "4            0            Urea  "
      ]
     },
     "execution_count": 119,
     "metadata": {},
     "output_type": "execute_result"
    }
   ],
   "source": [
    "data.head()"
   ]
  },
  {
   "cell_type": "code",
   "execution_count": 120,
   "id": "a08b751d",
   "metadata": {},
   "outputs": [
    {
     "name": "stdout",
     "output_type": "stream",
     "text": [
      "Index(['Temparature', 'Humidity ', 'Moisture', 'Soil Type', 'Crop Type',\n",
      "       'Nitrogen', 'Potassium', 'Phosphorous', 'Fertilizer Name'],\n",
      "      dtype='object')\n"
     ]
    }
   ],
   "source": [
    "print(data.columns)"
   ]
  },
  {
   "cell_type": "code",
   "execution_count": 121,
   "id": "e267b4ca",
   "metadata": {},
   "outputs": [],
   "source": [
    "data=data.drop(['Temparature', 'Humidity ', 'Moisture', 'Soil Type'],axis=1)"
   ]
  },
  {
   "cell_type": "code",
   "execution_count": 122,
   "id": "a7198e76",
   "metadata": {},
   "outputs": [
    {
     "data": {
      "text/html": [
       "<div>\n",
       "<style scoped>\n",
       "    .dataframe tbody tr th:only-of-type {\n",
       "        vertical-align: middle;\n",
       "    }\n",
       "\n",
       "    .dataframe tbody tr th {\n",
       "        vertical-align: top;\n",
       "    }\n",
       "\n",
       "    .dataframe thead th {\n",
       "        text-align: right;\n",
       "    }\n",
       "</style>\n",
       "<table border=\"1\" class=\"dataframe\">\n",
       "  <thead>\n",
       "    <tr style=\"text-align: right;\">\n",
       "      <th></th>\n",
       "      <th>Crop Type</th>\n",
       "      <th>Nitrogen</th>\n",
       "      <th>Potassium</th>\n",
       "      <th>Phosphorous</th>\n",
       "      <th>Fertilizer Name</th>\n",
       "    </tr>\n",
       "  </thead>\n",
       "  <tbody>\n",
       "    <tr>\n",
       "      <th>0</th>\n",
       "      <td>Maize</td>\n",
       "      <td>37</td>\n",
       "      <td>0</td>\n",
       "      <td>0</td>\n",
       "      <td>Urea</td>\n",
       "    </tr>\n",
       "    <tr>\n",
       "      <th>1</th>\n",
       "      <td>Sugarcane</td>\n",
       "      <td>12</td>\n",
       "      <td>0</td>\n",
       "      <td>36</td>\n",
       "      <td>DAP</td>\n",
       "    </tr>\n",
       "    <tr>\n",
       "      <th>2</th>\n",
       "      <td>Cotton</td>\n",
       "      <td>7</td>\n",
       "      <td>9</td>\n",
       "      <td>30</td>\n",
       "      <td>14-35-14</td>\n",
       "    </tr>\n",
       "    <tr>\n",
       "      <th>3</th>\n",
       "      <td>Tobacco</td>\n",
       "      <td>22</td>\n",
       "      <td>0</td>\n",
       "      <td>20</td>\n",
       "      <td>28-28</td>\n",
       "    </tr>\n",
       "    <tr>\n",
       "      <th>4</th>\n",
       "      <td>Paddy</td>\n",
       "      <td>35</td>\n",
       "      <td>0</td>\n",
       "      <td>0</td>\n",
       "      <td>Urea</td>\n",
       "    </tr>\n",
       "  </tbody>\n",
       "</table>\n",
       "</div>"
      ],
      "text/plain": [
       "   Crop Type  Nitrogen  Potassium  Phosphorous Fertilizer Name\n",
       "0      Maize        37          0            0            Urea\n",
       "1  Sugarcane        12          0           36             DAP\n",
       "2     Cotton         7          9           30        14-35-14\n",
       "3    Tobacco        22          0           20           28-28\n",
       "4      Paddy        35          0            0            Urea"
      ]
     },
     "execution_count": 122,
     "metadata": {},
     "output_type": "execute_result"
    }
   ],
   "source": [
    "data.head()\n"
   ]
  },
  {
   "cell_type": "code",
   "execution_count": null,
   "id": "e2b28725",
   "metadata": {},
   "outputs": [],
   "source": []
  },
  {
   "cell_type": "code",
   "execution_count": 123,
   "id": "0865cf17",
   "metadata": {},
   "outputs": [
    {
     "data": {
      "text/plain": [
       "<AxesSubplot:>"
      ]
     },
     "execution_count": 123,
     "metadata": {},
     "output_type": "execute_result"
    },
    {
     "data": {
      "image/png": "[encoded data removed]",
      "text/plain": [
       "<Figure size 576x396 with 2 Axes>"
      ]
     },
     "metadata": {},
     "output_type": "display_data"
    }
   ],
   "source": [
    "plt.style.use('seaborn')\n",
    "sns.heatmap(data.corr(method='pearson'),annot=True)"
   ]
  },
  {
   "cell_type": "markdown",
   "id": "78f27356",
   "metadata": {},
   "source": [
    "#### MAKE STRING DATA CATEGORICAL"
   ]
  },
  {
   "cell_type": "code",
   "execution_count": 124,
   "id": "866a4936",
   "metadata": {},
   "outputs": [],
   "source": [
    "def convert_to_dict(column):\n",
    "    dictionary=dict()\n",
    "    i=1\n",
    "    for x in column:\n",
    "        dictionary[x]=i\n",
    "        i=i+1\n",
    "    return dictionary"
   ]
  },
  {
   "cell_type": "code",
   "execution_count": 125,
   "id": "2ab1a1c5",
   "metadata": {},
   "outputs": [],
   "source": [
    "# dict_soil_type=convert_to_dict(data['Soil Type'].unique())\n",
    "dict_crop=convert_to_dict(data['Crop Type'].unique())\n",
    "dict_fertilizer=convert_to_dict(data['Fertilizer Name'].unique())"
   ]
  },
  {
   "cell_type": "code",
   "execution_count": 126,
   "id": "68f65420",
   "metadata": {},
   "outputs": [
    {
     "name": "stdout",
     "output_type": "stream",
     "text": [
      "{'Maize': 1, 'Sugarcane': 2, 'Cotton': 3, 'Tobacco': 4, 'Paddy': 5, 'Barley': 6, 'Wheat': 7, 'Millets': 8, 'Oil seeds': 9, 'Pulses': 10, 'Ground Nuts': 11}\n",
      "{'Urea': 1, 'DAP': 2, '14-35-14': 3, '28-28': 4, '17-17-17': 5, '20-20': 6, '10-26-26': 7}\n"
     ]
    }
   ],
   "source": [
    "print(dict_crop)\n",
    "print(dict_fertilizer)"
   ]
  },
  {
   "cell_type": "code",
   "execution_count": 127,
   "id": "8b9866c6",
   "metadata": {},
   "outputs": [],
   "source": [
    "x_train=data\n",
    "# x_train['Soil Type']=x_train['Soil Type'].apply(lambda x:dict_soil_type[x])\n",
    "x_train['Crop Type']=x_train['Crop Type'].apply(lambda x:dict_crop[x])   \n",
    "x_train['Fertilizer Name']=x_train['Fertilizer Name'].apply(lambda x:dict_fertilizer[x])   \n",
    "y_train=data['Fertilizer Name']\n",
    "x_train=x_train.drop('Fertilizer Name',axis=1)\n"
   ]
  },
  {
   "cell_type": "code",
   "execution_count": 128,
   "id": "e31ce45c",
   "metadata": {},
   "outputs": [
    {
     "data": {
      "text/plain": [
       "<seaborn.axisgrid.PairGrid at 0x12c11651fa0>"
      ]
     },
     "execution_count": 128,
     "metadata": {},
     "output_type": "execute_result"
    },
    {
     "data": {
      "image/png": "[encoded data removed]",
      "text/plain": [
       "<Figure size 900x900 with 30 Axes>"
      ]
     },
     "metadata": {},
     "output_type": "display_data"
    }
   ],
   "source": [
    "sns.pairplot(data)"
   ]
  },
  {
   "cell_type": "code",
   "execution_count": 129,
   "id": "7e4ee719",
   "metadata": {},
   "outputs": [
    {
     "data": {
      "text/html": [
       "<div>\n",
       "<style scoped>\n",
       "    .dataframe tbody tr th:only-of-type {\n",
       "        vertical-align: middle;\n",
       "    }\n",
       "\n",
       "    .dataframe tbody tr th {\n",
       "        vertical-align: top;\n",
       "    }\n",
       "\n",
       "    .dataframe thead th {\n",
       "        text-align: right;\n",
       "    }\n",
       "</style>\n",
       "<table border=\"1\" class=\"dataframe\">\n",
       "  <thead>\n",
       "    <tr style=\"text-align: right;\">\n",
       "      <th></th>\n",
       "      <th>Crop Type</th>\n",
       "      <th>Nitrogen</th>\n",
       "      <th>Potassium</th>\n",
       "      <th>Phosphorous</th>\n",
       "      <th>Fertilizer Name</th>\n",
       "    </tr>\n",
       "  </thead>\n",
       "  <tbody>\n",
       "    <tr>\n",
       "      <th>0</th>\n",
       "      <td>1</td>\n",
       "      <td>37</td>\n",
       "      <td>0</td>\n",
       "      <td>0</td>\n",
       "      <td>1</td>\n",
       "    </tr>\n",
       "    <tr>\n",
       "      <th>1</th>\n",
       "      <td>2</td>\n",
       "      <td>12</td>\n",
       "      <td>0</td>\n",
       "      <td>36</td>\n",
       "      <td>2</td>\n",
       "    </tr>\n",
       "    <tr>\n",
       "      <th>2</th>\n",
       "      <td>3</td>\n",
       "      <td>7</td>\n",
       "      <td>9</td>\n",
       "      <td>30</td>\n",
       "      <td>3</td>\n",
       "    </tr>\n",
       "    <tr>\n",
       "      <th>3</th>\n",
       "      <td>4</td>\n",
       "      <td>22</td>\n",
       "      <td>0</td>\n",
       "      <td>20</td>\n",
       "      <td>4</td>\n",
       "    </tr>\n",
       "    <tr>\n",
       "      <th>4</th>\n",
       "      <td>5</td>\n",
       "      <td>35</td>\n",
       "      <td>0</td>\n",
       "      <td>0</td>\n",
       "      <td>1</td>\n",
       "    </tr>\n",
       "  </tbody>\n",
       "</table>\n",
       "</div>"
      ],
      "text/plain": [
       "   Crop Type  Nitrogen  Potassium  Phosphorous  Fertilizer Name\n",
       "0          1        37          0            0                1\n",
       "1          2        12          0           36                2\n",
       "2          3         7          9           30                3\n",
       "3          4        22          0           20                4\n",
       "4          5        35          0            0                1"
      ]
     },
     "execution_count": 129,
     "metadata": {},
     "output_type": "execute_result"
    }
   ],
   "source": [
    "data.head()"
   ]
  },
  {
   "cell_type": "code",
   "execution_count": 130,
   "id": "f79670e3",
   "metadata": {},
   "outputs": [
    {
     "data": {
      "text/html": [
       "<div>\n",
       "<style scoped>\n",
       "    .dataframe tbody tr th:only-of-type {\n",
       "        vertical-align: middle;\n",
       "    }\n",
       "\n",
       "    .dataframe tbody tr th {\n",
       "        vertical-align: top;\n",
       "    }\n",
       "\n",
       "    .dataframe thead th {\n",
       "        text-align: right;\n",
       "    }\n",
       "</style>\n",
       "<table border=\"1\" class=\"dataframe\">\n",
       "  <thead>\n",
       "    <tr style=\"text-align: right;\">\n",
       "      <th></th>\n",
       "      <th>Crop Type</th>\n",
       "      <th>Nitrogen</th>\n",
       "      <th>Potassium</th>\n",
       "      <th>Phosphorous</th>\n",
       "    </tr>\n",
       "  </thead>\n",
       "  <tbody>\n",
       "    <tr>\n",
       "      <th>0</th>\n",
       "      <td>1</td>\n",
       "      <td>37</td>\n",
       "      <td>0</td>\n",
       "      <td>0</td>\n",
       "    </tr>\n",
       "    <tr>\n",
       "      <th>1</th>\n",
       "      <td>2</td>\n",
       "      <td>12</td>\n",
       "      <td>0</td>\n",
       "      <td>36</td>\n",
       "    </tr>\n",
       "    <tr>\n",
       "      <th>2</th>\n",
       "      <td>3</td>\n",
       "      <td>7</td>\n",
       "      <td>9</td>\n",
       "      <td>30</td>\n",
       "    </tr>\n",
       "    <tr>\n",
       "      <th>3</th>\n",
       "      <td>4</td>\n",
       "      <td>22</td>\n",
       "      <td>0</td>\n",
       "      <td>20</td>\n",
       "    </tr>\n",
       "    <tr>\n",
       "      <th>4</th>\n",
       "      <td>5</td>\n",
       "      <td>35</td>\n",
       "      <td>0</td>\n",
       "      <td>0</td>\n",
       "    </tr>\n",
       "  </tbody>\n",
       "</table>\n",
       "</div>"
      ],
      "text/plain": [
       "   Crop Type  Nitrogen  Potassium  Phosphorous\n",
       "0          1        37          0            0\n",
       "1          2        12          0           36\n",
       "2          3         7          9           30\n",
       "3          4        22          0           20\n",
       "4          5        35          0            0"
      ]
     },
     "execution_count": 130,
     "metadata": {},
     "output_type": "execute_result"
    }
   ],
   "source": [
    "x_train.head()"
   ]
  },
  {
   "cell_type": "code",
   "execution_count": 131,
   "id": "68f8700e",
   "metadata": {},
   "outputs": [
    {
     "data": {
      "text/plain": [
       "0    1\n",
       "1    2\n",
       "2    3\n",
       "3    4\n",
       "4    1\n",
       "Name: Fertilizer Name, dtype: int64"
      ]
     },
     "execution_count": 131,
     "metadata": {},
     "output_type": "execute_result"
    }
   ],
   "source": [
    "y_train.head()"
   ]
  },
  {
   "cell_type": "code",
   "execution_count": null,
   "id": "a2331053",
   "metadata": {},
   "outputs": [],
   "source": []
  },
  {
   "cell_type": "code",
   "execution_count": null,
   "id": "70f704be",
   "metadata": {},
   "outputs": [],
   "source": []
  },
  {
   "cell_type": "code",
   "execution_count": 133,
   "id": "f1bf6e7c",
   "metadata": {},
   "outputs": [
    {
     "name": "stdout",
     "output_type": "stream",
     "text": [
      "<class 'pandas.core.frame.DataFrame'>\n",
      "RangeIndex: 99 entries, 0 to 98\n",
      "Data columns (total 5 columns):\n",
      " #   Column           Non-Null Count  Dtype\n",
      "---  ------           --------------  -----\n",
      " 0   Crop Type        99 non-null     int64\n",
      " 1   Nitrogen         99 non-null     int64\n",
      " 2   Potassium        99 non-null     int64\n",
      " 3   Phosphorous      99 non-null     int64\n",
      " 4   Fertilizer Name  99 non-null     int64\n",
      "dtypes: int64(5)\n",
      "memory usage: 4.0 KB\n"
     ]
    }
   ],
   "source": [
    "data.info()"
   ]
  },
  {
   "cell_type": "code",
   "execution_count": 134,
   "id": "b045a859",
   "metadata": {},
   "outputs": [
    {
     "data": {
      "text/plain": [
       "(99, 5)"
      ]
     },
     "execution_count": 134,
     "metadata": {},
     "output_type": "execute_result"
    }
   ],
   "source": [
    "data.shape"
   ]
  },
  {
   "cell_type": "code",
   "execution_count": 135,
   "id": "e38b27a7",
   "metadata": {},
   "outputs": [
    {
     "data": {
      "text/html": [
       "<div>\n",
       "<style scoped>\n",
       "    .dataframe tbody tr th:only-of-type {\n",
       "        vertical-align: middle;\n",
       "    }\n",
       "\n",
       "    .dataframe tbody tr th {\n",
       "        vertical-align: top;\n",
       "    }\n",
       "\n",
       "    .dataframe thead th {\n",
       "        text-align: right;\n",
       "    }\n",
       "</style>\n",
       "<table border=\"1\" class=\"dataframe\">\n",
       "  <thead>\n",
       "    <tr style=\"text-align: right;\">\n",
       "      <th></th>\n",
       "      <th>Crop Type</th>\n",
       "      <th>Nitrogen</th>\n",
       "      <th>Potassium</th>\n",
       "      <th>Phosphorous</th>\n",
       "      <th>Fertilizer Name</th>\n",
       "    </tr>\n",
       "  </thead>\n",
       "  <tbody>\n",
       "    <tr>\n",
       "      <th>count</th>\n",
       "      <td>99.000000</td>\n",
       "      <td>99.000000</td>\n",
       "      <td>99.000000</td>\n",
       "      <td>99.000000</td>\n",
       "      <td>99.000000</td>\n",
       "    </tr>\n",
       "    <tr>\n",
       "      <th>mean</th>\n",
       "      <td>5.848485</td>\n",
       "      <td>18.909091</td>\n",
       "      <td>3.383838</td>\n",
       "      <td>18.606061</td>\n",
       "      <td>3.393939</td>\n",
       "    </tr>\n",
       "    <tr>\n",
       "      <th>std</th>\n",
       "      <td>3.117965</td>\n",
       "      <td>11.599693</td>\n",
       "      <td>5.814667</td>\n",
       "      <td>13.476978</td>\n",
       "      <td>1.952592</td>\n",
       "    </tr>\n",
       "    <tr>\n",
       "      <th>min</th>\n",
       "      <td>1.000000</td>\n",
       "      <td>4.000000</td>\n",
       "      <td>0.000000</td>\n",
       "      <td>0.000000</td>\n",
       "      <td>1.000000</td>\n",
       "    </tr>\n",
       "    <tr>\n",
       "      <th>25%</th>\n",
       "      <td>3.000000</td>\n",
       "      <td>10.000000</td>\n",
       "      <td>0.000000</td>\n",
       "      <td>9.000000</td>\n",
       "      <td>2.000000</td>\n",
       "    </tr>\n",
       "    <tr>\n",
       "      <th>50%</th>\n",
       "      <td>6.000000</td>\n",
       "      <td>13.000000</td>\n",
       "      <td>0.000000</td>\n",
       "      <td>19.000000</td>\n",
       "      <td>3.000000</td>\n",
       "    </tr>\n",
       "    <tr>\n",
       "      <th>75%</th>\n",
       "      <td>8.000000</td>\n",
       "      <td>24.000000</td>\n",
       "      <td>7.500000</td>\n",
       "      <td>30.000000</td>\n",
       "      <td>5.000000</td>\n",
       "    </tr>\n",
       "    <tr>\n",
       "      <th>max</th>\n",
       "      <td>11.000000</td>\n",
       "      <td>42.000000</td>\n",
       "      <td>19.000000</td>\n",
       "      <td>42.000000</td>\n",
       "      <td>7.000000</td>\n",
       "    </tr>\n",
       "  </tbody>\n",
       "</table>\n",
       "</div>"
      ],
      "text/plain": [
       "       Crop Type   Nitrogen  Potassium  Phosphorous  Fertilizer Name\n",
       "count  99.000000  99.000000  99.000000    99.000000        99.000000\n",
       "mean    5.848485  18.909091   3.383838    18.606061         3.393939\n",
       "std     3.117965  11.599693   5.814667    13.476978         1.952592\n",
       "min     1.000000   4.000000   0.000000     0.000000         1.000000\n",
       "25%     3.000000  10.000000   0.000000     9.000000         2.000000\n",
       "50%     6.000000  13.000000   0.000000    19.000000         3.000000\n",
       "75%     8.000000  24.000000   7.500000    30.000000         5.000000\n",
       "max    11.000000  42.000000  19.000000    42.000000         7.000000"
      ]
     },
     "execution_count": 135,
     "metadata": {},
     "output_type": "execute_result"
    }
   ],
   "source": [
    "data.describe()"
   ]
  },
  {
   "cell_type": "code",
   "execution_count": 136,
   "id": "7443d4f7",
   "metadata": {},
   "outputs": [
    {
     "data": {
      "text/plain": [
       "Crop Type          11\n",
       "Nitrogen           24\n",
       "Potassium          13\n",
       "Phosphorous        32\n",
       "Fertilizer Name     7\n",
       "dtype: int64"
      ]
     },
     "execution_count": 136,
     "metadata": {},
     "output_type": "execute_result"
    }
   ],
   "source": [
    "data.nunique()"
   ]
  },
  {
   "cell_type": "markdown",
   "id": "8bf36c7c",
   "metadata": {},
   "source": [
    "### TRAIN TEST SPLIT"
   ]
  },
  {
   "cell_type": "code",
   "execution_count": 137,
   "id": "7901824d",
   "metadata": {},
   "outputs": [],
   "source": [
    "data=np.array(data)\n",
    "data=data.astype('float64')\n"
   ]
  },
  {
   "cell_type": "code",
   "execution_count": 138,
   "id": "33e31343",
   "metadata": {},
   "outputs": [
    {
     "name": "stdout",
     "output_type": "stream",
     "text": [
      "(99, 4)\n"
     ]
    }
   ],
   "source": [
    "x=data[:,:-1]\n",
    "print(x.shape)"
   ]
  },
  {
   "cell_type": "code",
   "execution_count": 139,
   "id": "b320684a",
   "metadata": {},
   "outputs": [
    {
     "name": "stdout",
     "output_type": "stream",
     "text": [
      "(99,)\n"
     ]
    }
   ],
   "source": [
    "y=data[:,-1]\n",
    "print(y.shape)"
   ]
  },
  {
   "cell_type": "code",
   "execution_count": 140,
   "id": "1f1dd6ec",
   "metadata": {},
   "outputs": [],
   "source": [
    "x_train, x_test, y_train, y_test = train_test_split( x, y, test_size=0.33, random_state=42)"
   ]
  },
  {
   "cell_type": "code",
   "execution_count": 141,
   "id": "264ec003",
   "metadata": {},
   "outputs": [
    {
     "name": "stdout",
     "output_type": "stream",
     "text": [
      "(66, 4) (66,)\n",
      "(33, 4) (33,)\n"
     ]
    }
   ],
   "source": [
    "print(x_train.shape,y_train.shape)\n",
    "print(x_test.shape,y_test.shape)"
   ]
  },
  {
   "cell_type": "markdown",
   "id": "d2078932",
   "metadata": {},
   "source": [
    "### NORMALIZE OUR DATA"
   ]
  },
  {
   "cell_type": "code",
   "execution_count": 142,
   "id": "497e3598",
   "metadata": {},
   "outputs": [],
   "source": [
    "def normalize(x_train,x_test,index):\n",
    "    m=x_train[:,index].mean()\n",
    "    s=x_train[:,index].std()\n",
    "    x_train[:,index]=(x_train[:,index]-m)/s\n",
    "    x_test[:,index]=(x_test[:,index]-m)/s\n",
    "    return x_train,x_test,m,s\n",
    "    "
   ]
  },
  {
   "cell_type": "code",
   "execution_count": 144,
   "id": "9104283f",
   "metadata": {},
   "outputs": [],
   "source": [
    "indices_continuous=[1,2,3]\n",
    "indices_categorical=[0]\n",
    "mean_dict=dict()\n",
    "std_dict=dict()"
   ]
  },
  {
   "cell_type": "code",
   "execution_count": 145,
   "id": "6f55e6be",
   "metadata": {},
   "outputs": [],
   "source": [
    "for x in indices_continuous:\n",
    "    x_train,x_test,m,s=normalize(x_train,x_test,x)\n",
    "    mean_dict[x]=m\n",
    "    std_dict[x]=s\n",
    "for x in indices_categorical:\n",
    "    mean_dict[x]=0;\n",
    "    std_dict[x]=1\n",
    "    "
   ]
  },
  {
   "cell_type": "code",
   "execution_count": 146,
   "id": "8ee34d29",
   "metadata": {},
   "outputs": [
    {
     "data": {
      "text/plain": [
       "({1: 18.651515151515152, 2: 3.3181818181818183, 3: 17.393939393939394, 0: 0},\n",
       " {1: 11.674230133908935, 2: 5.5872123772736915, 3: 13.08350660515888, 0: 1})"
      ]
     },
     "execution_count": 146,
     "metadata": {},
     "output_type": "execute_result"
    }
   ],
   "source": [
    "mean_dict,std_dict"
   ]
  },
  {
   "cell_type": "markdown",
   "id": "447ce211",
   "metadata": {},
   "source": [
    "## ML MODELS"
   ]
  },
  {
   "cell_type": "markdown",
   "id": "2be84735",
   "metadata": {},
   "source": [
    "### SVM"
   ]
  },
  {
   "cell_type": "code",
   "execution_count": 147,
   "id": "ec8eb58c",
   "metadata": {},
   "outputs": [],
   "source": [
    "from sklearn import svm\n",
    "from sklearn.model_selection import cross_val_score\n",
    "from sklearn.metrics import accuracy_score\n",
    "from sklearn.model_selection import GridSearchCV\n",
    "import multiprocessing"
   ]
  },
  {
   "cell_type": "code",
   "execution_count": 148,
   "id": "92a84b59",
   "metadata": {},
   "outputs": [
    {
     "name": "stdout",
     "output_type": "stream",
     "text": [
      "8\n"
     ]
    }
   ],
   "source": [
    "cpus=multiprocessing.cpu_count()\n",
    "print(cpus)"
   ]
  },
  {
   "cell_type": "code",
   "execution_count": 149,
   "id": "9ad19be9",
   "metadata": {},
   "outputs": [],
   "source": [
    "parameters={'kernel':['linear','rbf','poly','sigmoid'],'C':[1,1.5,2,2.5,3,4,5,6,7]}"
   ]
  },
  {
   "cell_type": "code",
   "execution_count": 150,
   "id": "edb43160",
   "metadata": {},
   "outputs": [],
   "source": [
    "model=svm.SVC()"
   ]
  },
  {
   "cell_type": "code",
   "execution_count": 151,
   "id": "07ab5b3f",
   "metadata": {},
   "outputs": [
    {
     "data": {
      "text/plain": [
       "GridSearchCV(cv=3, estimator=SVC(), n_jobs=8,\n",
       "             param_grid={'C': [1, 1.5, 2, 2.5, 3, 4, 5, 6, 7],\n",
       "                         'kernel': ['linear', 'rbf', 'poly', 'sigmoid']},\n",
       "             scoring='accuracy')"
      ]
     },
     "execution_count": 151,
     "metadata": {},
     "output_type": "execute_result"
    }
   ],
   "source": [
    "gs=GridSearchCV(model,param_grid=parameters,scoring='accuracy',cv=3,n_jobs=cpus)\n",
    "gs.fit(x_train,y_train)"
   ]
  },
  {
   "cell_type": "code",
   "execution_count": 152,
   "id": "43e122c7",
   "metadata": {},
   "outputs": [
    {
     "data": {
      "text/plain": [
       "SVC(C=1, kernel='linear')"
      ]
     },
     "execution_count": 152,
     "metadata": {},
     "output_type": "execute_result"
    }
   ],
   "source": [
    "gs.best_estimator_"
   ]
  },
  {
   "cell_type": "code",
   "execution_count": 153,
   "id": "9bdb2cbe",
   "metadata": {},
   "outputs": [
    {
     "data": {
      "text/plain": [
       "0.9696969696969697"
      ]
     },
     "execution_count": 153,
     "metadata": {},
     "output_type": "execute_result"
    }
   ],
   "source": [
    "gs.best_score_"
   ]
  },
  {
   "cell_type": "code",
   "execution_count": 154,
   "id": "ea19ee21",
   "metadata": {},
   "outputs": [
    {
     "data": {
      "text/plain": [
       "{'C': 1, 'kernel': 'linear'}"
      ]
     },
     "execution_count": 154,
     "metadata": {},
     "output_type": "execute_result"
    }
   ],
   "source": [
    "gs.best_params_"
   ]
  },
  {
   "cell_type": "code",
   "execution_count": 155,
   "id": "9c156a0e",
   "metadata": {},
   "outputs": [
    {
     "name": "stdout",
     "output_type": "stream",
     "text": [
      "1.0\n",
      "1.0\n"
     ]
    }
   ],
   "source": [
    "final_svm=svm.SVC(kernel='linear',C=1,random_state=0)\n",
    "final_svm.fit(x_train,y_train)\n",
    "print(final_svm.score(x_train,y_train))\n",
    "print(final_svm.score(x_test,y_test))"
   ]
  },
  {
   "cell_type": "code",
   "execution_count": 156,
   "id": "e9b4afeb",
   "metadata": {},
   "outputs": [
    {
     "name": "stdout",
     "output_type": "stream",
     "text": [
      "[1.         0.95454545 0.95454545] 0.9696969696969697\n"
     ]
    }
   ],
   "source": [
    "scores=cross_val_score(final_svm,x_train,y_train,cv=3)\n",
    "print(scores,scores.mean())\n",
    "cross_val_scores['SVM']=scores.mean()"
   ]
  },
  {
   "cell_type": "code",
   "execution_count": 157,
   "id": "a8f15efd",
   "metadata": {},
   "outputs": [
    {
     "name": "stdout",
     "output_type": "stream",
     "text": [
      "              precision    recall  f1-score   support\n",
      "\n",
      "         1.0      1.000     1.000     1.000         7\n",
      "         2.0      1.000     1.000     1.000         8\n",
      "         3.0      1.000     1.000     1.000         4\n",
      "         4.0      1.000     1.000     1.000         8\n",
      "         5.0      1.000     1.000     1.000         2\n",
      "         6.0      1.000     1.000     1.000         1\n",
      "         7.0      1.000     1.000     1.000         3\n",
      "\n",
      "    accuracy                          1.000        33\n",
      "   macro avg      1.000     1.000     1.000        33\n",
      "weighted avg      1.000     1.000     1.000        33\n",
      "\n"
     ]
    },
    {
     "data": {
      "image/png": "[encoded data removed]",
      "text/plain": [
       "<Figure size 576x396 with 2 Axes>"
      ]
     },
     "metadata": {},
     "output_type": "display_data"
    }
   ],
   "source": [
    "cf=metrics.confusion_matrix(y_test,final_svm.predict(x_test))\n",
    "print(metrics.classification_report(y_test, final_svm.predict(x_test),digits=3))\n",
    "\n",
    "ax = sns.heatmap(cf, annot=True, cmap='Blues')\n",
    "\n",
    "ax.set_title('Seaborn Confusion Matrix with labels\\n\\n');\n",
    "ax.set_xlabel('\\nPredicted Values')\n",
    "ax.set_ylabel('Actual Values ');\n",
    "\n",
    "\n",
    "\n",
    "## Display the visualization of the Confusion Matrix.\n",
    "plt.show()"
   ]
  },
  {
   "cell_type": "code",
   "execution_count": null,
   "id": "c0aeece5",
   "metadata": {},
   "outputs": [],
   "source": []
  },
  {
   "cell_type": "markdown",
   "id": "acb9e323",
   "metadata": {},
   "source": [
    "### Logistic Regression"
   ]
  },
  {
   "cell_type": "code",
   "execution_count": 158,
   "id": "9431c513",
   "metadata": {},
   "outputs": [],
   "source": [
    "from sklearn.linear_model import LogisticRegression"
   ]
  },
  {
   "cell_type": "code",
   "execution_count": 161,
   "id": "c6444101",
   "metadata": {},
   "outputs": [],
   "source": [
    "model=LogisticRegression(max_iter=5000)"
   ]
  },
  {
   "cell_type": "code",
   "execution_count": 162,
   "id": "3af3413a",
   "metadata": {},
   "outputs": [
    {
     "name": "stdout",
     "output_type": "stream",
     "text": [
      "LogisticRegression(solver='saga')\n",
      "0.9848484848484849\n"
     ]
    },
    {
     "name": "stderr",
     "output_type": "stream",
     "text": [
      "C:\\Users\\GAGAN\\anaconda3\\lib\\site-packages\\sklearn\\linear_model\\_sag.py:328: ConvergenceWarning: The max_iter was reached which means the coef_ did not converge\n",
      "  warnings.warn(\"The max_iter was reached which means \"\n"
     ]
    }
   ],
   "source": [
    "parameters={'max_iter':[100,200,300,400,500],'solver':['newton-cg', 'lbfgs', 'liblinear', 'sag', 'saga']}\n",
    "gs=GridSearchCV(model,param_grid=parameters,scoring='accuracy',cv=3,n_jobs=cpus)\n",
    "gs.fit(x_train,y_train)\n",
    "print(gs.best_estimator_)\n",
    "print(gs.best_score_)"
   ]
  },
  {
   "cell_type": "code",
   "execution_count": 163,
   "id": "c6b13fce",
   "metadata": {},
   "outputs": [
    {
     "name": "stderr",
     "output_type": "stream",
     "text": [
      "C:\\Users\\GAGAN\\anaconda3\\lib\\site-packages\\sklearn\\linear_model\\_sag.py:328: ConvergenceWarning: The max_iter was reached which means the coef_ did not converge\n",
      "  warnings.warn(\"The max_iter was reached which means \"\n"
     ]
    },
    {
     "data": {
      "text/plain": [
       "LogisticRegression(max_iter=300, random_state=0, solver='sag')"
      ]
     },
     "execution_count": 163,
     "metadata": {},
     "output_type": "execute_result"
    }
   ],
   "source": [
    "final_model=LogisticRegression(max_iter=300,solver='sag',random_state=0)\n",
    "scores=cross_val_score(model,x_train,y_train,cv=3)\n",
    "final_model.fit(x_train,y_train)"
   ]
  },
  {
   "cell_type": "code",
   "execution_count": 164,
   "id": "1890db98",
   "metadata": {},
   "outputs": [
    {
     "name": "stdout",
     "output_type": "stream",
     "text": [
      "[1.         0.95454545 0.95454545] 0.9696969696969697\n"
     ]
    }
   ],
   "source": [
    "print(scores,scores.mean())\n",
    "cross_val_scores['Logistic Regression']=scores.mean()"
   ]
  },
  {
   "cell_type": "code",
   "execution_count": 165,
   "id": "d2e44519",
   "metadata": {},
   "outputs": [
    {
     "name": "stdout",
     "output_type": "stream",
     "text": [
      "0.9696969696969697\n",
      "1.0\n"
     ]
    }
   ],
   "source": [
    "print(final_model.score(x_train,y_train))\n",
    "print(final_model.score(x_test,y_test))"
   ]
  },
  {
   "cell_type": "code",
   "execution_count": 166,
   "id": "1da8e91c",
   "metadata": {},
   "outputs": [
    {
     "name": "stdout",
     "output_type": "stream",
     "text": [
      "              precision    recall  f1-score   support\n",
      "\n",
      "         1.0      1.000     1.000     1.000         7\n",
      "         2.0      1.000     1.000     1.000         8\n",
      "         3.0      1.000     1.000     1.000         4\n",
      "         4.0      1.000     1.000     1.000         8\n",
      "         5.0      1.000     1.000     1.000         2\n",
      "         6.0      1.000     1.000     1.000         1\n",
      "         7.0      1.000     1.000     1.000         3\n",
      "\n",
      "    accuracy                          1.000        33\n",
      "   macro avg      1.000     1.000     1.000        33\n",
      "weighted avg      1.000     1.000     1.000        33\n",
      "\n"
     ]
    },
    {
     "data": {
      "image/png": "[encoded data removed]",
      "text/plain": [
       "<Figure size 576x396 with 2 Axes>"
      ]
     },
     "metadata": {},
     "output_type": "display_data"
    }
   ],
   "source": [
    "cf=metrics.confusion_matrix(y_test,final_model.predict(x_test))\n",
    "print(metrics.classification_report(y_test, final_model.predict(x_test),digits=3))\n",
    "\n",
    "ax = sns.heatmap(cf, annot=True, cmap='Blues')\n",
    "\n",
    "ax.set_title('Seaborn Confusion Matrix with labels\\n\\n');\n",
    "ax.set_xlabel('\\nPredicted Values')\n",
    "ax.set_ylabel('Actual Values ');\n",
    "\n",
    "\n",
    "\n",
    "## Display the visualization of the Confusion Matrix.\n",
    "plt.show()"
   ]
  },
  {
   "cell_type": "markdown",
   "id": "5b396873",
   "metadata": {},
   "source": [
    "### DECISION TREE"
   ]
  },
  {
   "cell_type": "code",
   "execution_count": 167,
   "id": "ba61b2da",
   "metadata": {},
   "outputs": [],
   "source": [
    "from sklearn import tree"
   ]
  },
  {
   "cell_type": "code",
   "execution_count": 168,
   "id": "f06062b8",
   "metadata": {},
   "outputs": [],
   "source": [
    "parameters={'criterion':['entropy','gini','log_loss'],'max_depth':[2,3,4,5],'min_samples_leaf':[5,10,15,20],'max_leaf_nodes':[3,4,5,6,7,8,10,11,12]}"
   ]
  },
  {
   "cell_type": "code",
   "execution_count": 169,
   "id": "0dcee96b",
   "metadata": {},
   "outputs": [
    {
     "name": "stderr",
     "output_type": "stream",
     "text": [
      "C:\\Users\\GAGAN\\anaconda3\\lib\\site-packages\\sklearn\\model_selection\\_search.py:922: UserWarning: One or more of the test scores are non-finite: [0.57575758 0.57575758 0.40909091 0.37878788 0.71212121 0.62121212\n",
      " 0.40909091 0.37878788 0.71212121 0.62121212 0.40909091 0.37878788\n",
      " 0.71212121 0.62121212 0.40909091 0.37878788 0.71212121 0.62121212\n",
      " 0.40909091 0.37878788 0.71212121 0.62121212 0.40909091 0.37878788\n",
      " 0.71212121 0.62121212 0.40909091 0.37878788 0.71212121 0.62121212\n",
      " 0.40909091 0.37878788 0.71212121 0.62121212 0.40909091 0.37878788\n",
      " 0.57575758 0.57575758 0.40909091 0.37878788 0.71212121 0.62121212\n",
      " 0.40909091 0.37878788 0.84848485 0.62121212 0.40909091 0.37878788\n",
      " 0.89393939 0.62121212 0.40909091 0.37878788 0.87878788 0.62121212\n",
      " 0.40909091 0.37878788 0.89393939 0.62121212 0.40909091 0.37878788\n",
      " 0.89393939 0.62121212 0.40909091 0.37878788 0.87878788 0.62121212\n",
      " 0.40909091 0.37878788 0.89393939 0.62121212 0.40909091 0.37878788\n",
      " 0.57575758 0.57575758 0.40909091 0.37878788 0.71212121 0.62121212\n",
      " 0.40909091 0.37878788 0.84848485 0.62121212 0.40909091 0.37878788\n",
      " 0.87878788 0.62121212 0.40909091 0.37878788 0.87878788 0.62121212\n",
      " 0.40909091 0.37878788 0.87878788 0.62121212 0.40909091 0.37878788\n",
      " 0.87878788 0.62121212 0.40909091 0.37878788 0.89393939 0.62121212\n",
      " 0.40909091 0.37878788 0.87878788 0.62121212 0.40909091 0.37878788\n",
      " 0.57575758 0.57575758 0.40909091 0.37878788 0.71212121 0.62121212\n",
      " 0.40909091 0.37878788 0.84848485 0.62121212 0.40909091 0.37878788\n",
      " 0.87878788 0.62121212 0.40909091 0.37878788 0.89393939 0.62121212\n",
      " 0.40909091 0.37878788 0.87878788 0.62121212 0.40909091 0.37878788\n",
      " 0.89393939 0.62121212 0.40909091 0.37878788 0.89393939 0.62121212\n",
      " 0.40909091 0.37878788 0.89393939 0.62121212 0.40909091 0.37878788\n",
      " 0.57575758 0.57575758 0.42424242 0.37878788 0.57575758 0.57575758\n",
      " 0.42424242 0.37878788 0.57575758 0.57575758 0.42424242 0.37878788\n",
      " 0.57575758 0.57575758 0.42424242 0.37878788 0.57575758 0.57575758\n",
      " 0.42424242 0.37878788 0.57575758 0.57575758 0.42424242 0.37878788\n",
      " 0.57575758 0.57575758 0.42424242 0.37878788 0.57575758 0.57575758\n",
      " 0.42424242 0.37878788 0.57575758 0.57575758 0.42424242 0.37878788\n",
      " 0.57575758 0.57575758 0.42424242 0.37878788 0.6969697  0.65151515\n",
      " 0.42424242 0.37878788 0.71212121 0.65151515 0.42424242 0.37878788\n",
      " 0.72727273 0.65151515 0.42424242 0.37878788 0.72727273 0.65151515\n",
      " 0.42424242 0.37878788 0.71212121 0.65151515 0.42424242 0.37878788\n",
      " 0.72727273 0.65151515 0.42424242 0.37878788 0.72727273 0.65151515\n",
      " 0.42424242 0.37878788 0.72727273 0.65151515 0.42424242 0.37878788\n",
      " 0.57575758 0.57575758 0.42424242 0.37878788 0.6969697  0.65151515\n",
      " 0.42424242 0.37878788 0.84848485 0.65151515 0.42424242 0.37878788\n",
      " 0.86363636 0.65151515 0.42424242 0.37878788 0.86363636 0.65151515\n",
      " 0.42424242 0.37878788 0.86363636 0.65151515 0.42424242 0.37878788\n",
      " 0.86363636 0.65151515 0.42424242 0.37878788 0.86363636 0.65151515\n",
      " 0.42424242 0.37878788 0.86363636 0.65151515 0.42424242 0.37878788\n",
      " 0.57575758 0.57575758 0.42424242 0.37878788 0.71212121 0.65151515\n",
      " 0.42424242 0.37878788 0.84848485 0.65151515 0.42424242 0.37878788\n",
      " 0.89393939 0.65151515 0.42424242 0.37878788 0.89393939 0.65151515\n",
      " 0.42424242 0.37878788 0.89393939 0.65151515 0.42424242 0.37878788\n",
      " 0.89393939 0.65151515 0.42424242 0.37878788 0.89393939 0.65151515\n",
      " 0.42424242 0.37878788 0.89393939 0.65151515 0.42424242 0.37878788\n",
      "        nan        nan        nan        nan        nan        nan\n",
      "        nan        nan        nan        nan        nan        nan\n",
      "        nan        nan        nan        nan        nan        nan\n",
      "        nan        nan        nan        nan        nan        nan\n",
      "        nan        nan        nan        nan        nan        nan\n",
      "        nan        nan        nan        nan        nan        nan\n",
      "        nan        nan        nan        nan        nan        nan\n",
      "        nan        nan        nan        nan        nan        nan\n",
      "        nan        nan        nan        nan        nan        nan\n",
      "        nan        nan        nan        nan        nan        nan\n",
      "        nan        nan        nan        nan        nan        nan\n",
      "        nan        nan        nan        nan        nan        nan\n",
      "        nan        nan        nan        nan        nan        nan\n",
      "        nan        nan        nan        nan        nan        nan\n",
      "        nan        nan        nan        nan        nan        nan\n",
      "        nan        nan        nan        nan        nan        nan\n",
      "        nan        nan        nan        nan        nan        nan\n",
      "        nan        nan        nan        nan        nan        nan\n",
      "        nan        nan        nan        nan        nan        nan\n",
      "        nan        nan        nan        nan        nan        nan\n",
      "        nan        nan        nan        nan        nan        nan\n",
      "        nan        nan        nan        nan        nan        nan\n",
      "        nan        nan        nan        nan        nan        nan\n",
      "        nan        nan        nan        nan        nan        nan]\n",
      "  warnings.warn(\n"
     ]
    },
    {
     "data": {
      "text/plain": [
       "GridSearchCV(cv=3, estimator=DecisionTreeClassifier(), n_jobs=8,\n",
       "             param_grid={'criterion': ['entropy', 'gini', 'log_loss'],\n",
       "                         'max_depth': [2, 3, 4, 5],\n",
       "                         'max_leaf_nodes': [3, 4, 5, 6, 7, 8, 10, 11, 12],\n",
       "                         'min_samples_leaf': [5, 10, 15, 20]},\n",
       "             scoring='accuracy')"
      ]
     },
     "execution_count": 169,
     "metadata": {},
     "output_type": "execute_result"
    }
   ],
   "source": [
    "model=tree.DecisionTreeClassifier()\n",
    "gs=GridSearchCV(model,param_grid=parameters,scoring='accuracy',cv=3,n_jobs=cpus)\n",
    "gs.fit(x_train,y_train)"
   ]
  },
  {
   "cell_type": "code",
   "execution_count": 170,
   "id": "e057948f",
   "metadata": {},
   "outputs": [
    {
     "data": {
      "text/plain": [
       "0.893939393939394"
      ]
     },
     "execution_count": 170,
     "metadata": {},
     "output_type": "execute_result"
    }
   ],
   "source": [
    "gs.best_score_"
   ]
  },
  {
   "cell_type": "code",
   "execution_count": 171,
   "id": "e63c2b75",
   "metadata": {},
   "outputs": [
    {
     "data": {
      "text/plain": [
       "{'criterion': 'entropy',\n",
       " 'max_depth': 3,\n",
       " 'max_leaf_nodes': 6,\n",
       " 'min_samples_leaf': 5}"
      ]
     },
     "execution_count": 171,
     "metadata": {},
     "output_type": "execute_result"
    }
   ],
   "source": [
    "gs.best_params_"
   ]
  },
  {
   "cell_type": "code",
   "execution_count": 172,
   "id": "353909bf",
   "metadata": {},
   "outputs": [
    {
     "name": "stdout",
     "output_type": "stream",
     "text": [
      "[0.90909091 0.90909091 0.81818182] 0.8787878787878788\n"
     ]
    }
   ],
   "source": [
    "final_model=tree.DecisionTreeClassifier(criterion='entropy',max_depth=3,max_leaf_nodes=6,min_samples_leaf=5,random_state=0)\n",
    "scores=cross_val_score(final_model,x_train,y_train,cv=3)\n",
    "print(scores,scores.mean())\n",
    "cross_val_scores['Decision Tree']=scores.mean()"
   ]
  },
  {
   "cell_type": "code",
   "execution_count": 173,
   "id": "8179a58e",
   "metadata": {},
   "outputs": [
    {
     "data": {
      "text/plain": [
       "DecisionTreeClassifier(criterion='entropy', max_depth=3, max_leaf_nodes=6,\n",
       "                       min_samples_leaf=5, random_state=0)"
      ]
     },
     "execution_count": 173,
     "metadata": {},
     "output_type": "execute_result"
    }
   ],
   "source": [
    "final_model.fit(x_train,y_train)"
   ]
  },
  {
   "cell_type": "code",
   "execution_count": 174,
   "id": "2f1b3944",
   "metadata": {},
   "outputs": [
    {
     "name": "stdout",
     "output_type": "stream",
     "text": [
      "0.9393939393939394\n",
      "0.9090909090909091\n"
     ]
    }
   ],
   "source": [
    "print(final_model.score(x_train,y_train))\n",
    "print(final_model.score(x_test,y_test))"
   ]
  },
  {
   "cell_type": "code",
   "execution_count": 175,
   "id": "37700531",
   "metadata": {},
   "outputs": [
    {
     "data": {
      "text/plain": [
       "[Text(620.0, 951.3000000000001, 'Phosphorous <= -0.145\\nentropy = 2.692\\nsamples = 66\\nvalue = [15, 10, 10, 9, 5, 13, 4]\\nclass = Urea'),\n",
       " Text(372.0, 679.5, 'Nitrogen <= 0.544\\nentropy = 1.608\\nsamples = 34\\nvalue = [15, 0, 0, 0, 5, 13, 1]\\nclass = Urea'),\n",
       " Text(248.0, 407.70000000000005, 'Potassium <= 0.301\\nentropy = 1.105\\nsamples = 19\\nvalue = [0, 0, 0, 0, 5, 13, 1]\\nclass = 20-20'),\n",
       " Text(124.0, 135.89999999999998, 'entropy = 0.0\\nsamples = 13\\nvalue = [0, 0, 0, 0, 0, 13, 0]\\nclass = 20-20'),\n",
       " Text(372.0, 135.89999999999998, 'entropy = 0.65\\nsamples = 6\\nvalue = [0, 0, 0, 0, 5, 0, 1]\\nclass = 17-17-17'),\n",
       " Text(496.0, 407.70000000000005, 'entropy = 0.0\\nsamples = 15\\nvalue = [15, 0, 0, 0, 0, 0, 0]\\nclass = Urea'),\n",
       " Text(868.0, 679.5, 'Potassium <= 0.033\\nentropy = 1.884\\nsamples = 32\\nvalue = [0, 10, 10, 9, 0, 0, 3]\\nclass = DAP'),\n",
       " Text(744.0, 407.70000000000005, 'Phosphorous <= 0.925\\nentropy = 0.998\\nsamples = 19\\nvalue = [0, 10, 0, 9, 0, 0, 0]\\nclass = DAP'),\n",
       " Text(620.0, 135.89999999999998, 'entropy = 0.0\\nsamples = 9\\nvalue = [0, 0, 0, 9, 0, 0, 0]\\nclass = 28-28'),\n",
       " Text(868.0, 135.89999999999998, 'entropy = 0.0\\nsamples = 10\\nvalue = [0, 10, 0, 0, 0, 0, 0]\\nclass = DAP'),\n",
       " Text(992.0, 407.70000000000005, 'entropy = 0.779\\nsamples = 13\\nvalue = [0, 0, 10, 0, 0, 0, 3]\\nclass = 14-35-14')]"
      ]
     },
     "execution_count": 175,
     "metadata": {},
     "output_type": "execute_result"
    },
    {
     "data": {
      "image/png": "[encoded data removed]",
      "text/plain": [
       "<Figure size 1440x1440 with 1 Axes>"
      ]
     },
     "metadata": {},
     "output_type": "display_data"
    }
   ],
   "source": [
    "plt.figure(figsize=(20,20))\n",
    "features=['Crop Type','Nitrogen','Potassium','Phosphorous']\n",
    "tree.plot_tree(final_model,feature_names=features,class_names=list(dict_fertilizer.keys()),filled=True)"
   ]
  },
  {
   "cell_type": "code",
   "execution_count": 176,
   "id": "4f03fc38",
   "metadata": {},
   "outputs": [
    {
     "name": "stderr",
     "output_type": "stream",
     "text": [
      "C:\\Users\\GAGAN\\anaconda3\\lib\\site-packages\\sklearn\\metrics\\_classification.py:1248: UndefinedMetricWarning: Precision and F-score are ill-defined and being set to 0.0 in labels with no predicted samples. Use `zero_division` parameter to control this behavior.\n",
      "  _warn_prf(average, modifier, msg_start, len(result))\n",
      "C:\\Users\\GAGAN\\anaconda3\\lib\\site-packages\\sklearn\\metrics\\_classification.py:1248: UndefinedMetricWarning: Precision and F-score are ill-defined and being set to 0.0 in labels with no predicted samples. Use `zero_division` parameter to control this behavior.\n",
      "  _warn_prf(average, modifier, msg_start, len(result))\n",
      "C:\\Users\\GAGAN\\anaconda3\\lib\\site-packages\\sklearn\\metrics\\_classification.py:1248: UndefinedMetricWarning: Precision and F-score are ill-defined and being set to 0.0 in labels with no predicted samples. Use `zero_division` parameter to control this behavior.\n",
      "  _warn_prf(average, modifier, msg_start, len(result))\n"
     ]
    },
    {
     "name": "stdout",
     "output_type": "stream",
     "text": [
      "              precision    recall  f1-score   support\n",
      "\n",
      "         1.0      1.000     1.000     1.000         7\n",
      "         2.0      1.000     1.000     1.000         8\n",
      "         3.0      0.571     1.000     0.727         4\n",
      "         4.0      1.000     1.000     1.000         8\n",
      "         5.0      1.000     1.000     1.000         2\n",
      "         6.0      1.000     1.000     1.000         1\n",
      "         7.0      0.000     0.000     0.000         3\n",
      "\n",
      "    accuracy                          0.909        33\n",
      "   macro avg      0.796     0.857     0.818        33\n",
      "weighted avg      0.857     0.909     0.876        33\n",
      "\n"
     ]
    },
    {
     "data": {
      "image/png": "[encoded data removed]",
      "text/plain": [
       "<Figure size 576x396 with 2 Axes>"
      ]
     },
     "metadata": {},
     "output_type": "display_data"
    }
   ],
   "source": [
    "cf=metrics.confusion_matrix(y_test,final_model.predict(x_test))\n",
    "print(metrics.classification_report(y_test, final_model.predict(x_test),digits=3))\n",
    "\n",
    "ax = sns.heatmap(cf, annot=True, cmap='Blues')\n",
    "\n",
    "ax.set_title('Seaborn Confusion Matrix with labels\\n\\n');\n",
    "ax.set_xlabel('\\nPredicted Values')\n",
    "ax.set_ylabel('Actual Values ');\n",
    "\n",
    "\n",
    "\n",
    "## Display the visualization of the Confusion Matrix.\n",
    "plt.show()"
   ]
  },
  {
   "cell_type": "markdown",
   "id": "8eb6c5d5",
   "metadata": {},
   "source": [
    "### Random Forest"
   ]
  },
  {
   "cell_type": "code",
   "execution_count": 177,
   "id": "d1252cf8",
   "metadata": {},
   "outputs": [],
   "source": [
    "from sklearn.ensemble import RandomForestClassifier"
   ]
  },
  {
   "cell_type": "code",
   "execution_count": 178,
   "id": "84201967",
   "metadata": {},
   "outputs": [],
   "source": [
    "model=RandomForestClassifier()"
   ]
  },
  {
   "cell_type": "code",
   "execution_count": 179,
   "id": "6853ad82",
   "metadata": {},
   "outputs": [],
   "source": [
    "parameters={'criterion':['entropy','gini','log_loss'],\n",
    "            'max_depth':[2,3,4,5],\n",
    "            'max_leaf_nodes':[3,4,5,6,7,8],\n",
    "            'n_estimators':[20,40,60,80,100,200,300],\n",
    "            'max_samples':[1,2,3,4,5,6,7,8]\n",
    "           }"
   ]
  },
  {
   "cell_type": "code",
   "execution_count": 180,
   "id": "73722bab",
   "metadata": {},
   "outputs": [],
   "source": [
    "\n",
    "# gs=GridSearchCV(model,param_grid=parameters,scoring='accuracy',cv=3,n_jobs=cpus)\n",
    "# gs.fit(x_train,y_train)"
   ]
  },
  {
   "cell_type": "code",
   "execution_count": 181,
   "id": "0d0d43e7",
   "metadata": {
    "scrolled": true
   },
   "outputs": [],
   "source": [
    "# print(gs.best_score_)"
   ]
  },
  {
   "cell_type": "code",
   "execution_count": 182,
   "id": "c5a50876",
   "metadata": {},
   "outputs": [],
   "source": [
    "# print(gs.best_params_)"
   ]
  },
  {
   "cell_type": "code",
   "execution_count": 207,
   "id": "8ab739aa",
   "metadata": {},
   "outputs": [],
   "source": [
    "final_model=RandomForestClassifier(n_estimators=30,bootstrap=True,criterion='entropy',max_leaf_nodes=3,max_samples=1,min_samples_leaf=10)\n",
    "final_model=RandomForestClassifier(n_estimators=150,random_state=42)\n",
    "# final_model=RandomForestClassifier(n_estimators=100,criterion='entropy',max_depth=7,max_leaf_nodes=10,max_samples=8)"
   ]
  },
  {
   "cell_type": "code",
   "execution_count": 208,
   "id": "8873c5cd",
   "metadata": {},
   "outputs": [
    {
     "data": {
      "text/plain": [
       "RandomForestClassifier(n_estimators=150, random_state=42)"
      ]
     },
     "execution_count": 208,
     "metadata": {},
     "output_type": "execute_result"
    }
   ],
   "source": [
    "final_model.fit(x_train,y_train)"
   ]
  },
  {
   "cell_type": "code",
   "execution_count": 209,
   "id": "f249a0d4",
   "metadata": {},
   "outputs": [
    {
     "name": "stdout",
     "output_type": "stream",
     "text": [
      "1.0\n",
      "1.0\n"
     ]
    }
   ],
   "source": [
    "print(final_model.score(x_train,y_train))\n",
    "print(final_model.score(x_test,y_test))"
   ]
  },
  {
   "cell_type": "code",
   "execution_count": 210,
   "id": "f4f4e635",
   "metadata": {},
   "outputs": [],
   "source": [
    "scores=cross_val_score(final_model,x_train,y_train,cv=3)"
   ]
  },
  {
   "cell_type": "code",
   "execution_count": 211,
   "id": "9cc48071",
   "metadata": {},
   "outputs": [
    {
     "name": "stdout",
     "output_type": "stream",
     "text": [
      "[1.         1.         0.95454545] 0.9848484848484849\n"
     ]
    }
   ],
   "source": [
    "print(scores,scores.mean())"
   ]
  },
  {
   "cell_type": "code",
   "execution_count": 188,
   "id": "0398ebb8",
   "metadata": {},
   "outputs": [],
   "source": [
    "cross_val_scores['Random Forest']=scores.mean()"
   ]
  },
  {
   "cell_type": "code",
   "execution_count": 189,
   "id": "1a5afdd0",
   "metadata": {},
   "outputs": [
    {
     "name": "stdout",
     "output_type": "stream",
     "text": [
      "{'SVM': 0.9696969696969697, 'Logistic Regression': 0.9696969696969697, 'Decision Tree': 0.8787878787878788, 'Random Forest': 0.9848484848484849, 'Naive Bayes': 0.9696969696969697}\n"
     ]
    }
   ],
   "source": [
    "print(cross_val_scores)"
   ]
  },
  {
   "cell_type": "code",
   "execution_count": null,
   "id": "182f1a18",
   "metadata": {},
   "outputs": [],
   "source": []
  },
  {
   "cell_type": "markdown",
   "id": "ac3bed7a",
   "metadata": {},
   "source": [
    "### Naive Bayes"
   ]
  },
  {
   "cell_type": "code",
   "execution_count": 190,
   "id": "755ac790",
   "metadata": {},
   "outputs": [],
   "source": [
    "from sklearn.naive_bayes import GaussianNB"
   ]
  },
  {
   "cell_type": "code",
   "execution_count": 191,
   "id": "c3548730",
   "metadata": {},
   "outputs": [],
   "source": [
    "model=GaussianNB()\n"
   ]
  },
  {
   "cell_type": "code",
   "execution_count": 192,
   "id": "4c1ae218",
   "metadata": {},
   "outputs": [],
   "source": [
    "scores=cross_val_score(model,x_train,y_train,cv=3)"
   ]
  },
  {
   "cell_type": "code",
   "execution_count": 193,
   "id": "64f9d923",
   "metadata": {},
   "outputs": [
    {
     "name": "stdout",
     "output_type": "stream",
     "text": [
      "[1.         1.         0.90909091] 0.9696969696969697\n"
     ]
    }
   ],
   "source": [
    "print(scores,scores.mean())"
   ]
  },
  {
   "cell_type": "code",
   "execution_count": 194,
   "id": "31e2c2d5",
   "metadata": {},
   "outputs": [
    {
     "data": {
      "text/plain": [
       "GaussianNB()"
      ]
     },
     "execution_count": 194,
     "metadata": {},
     "output_type": "execute_result"
    }
   ],
   "source": [
    "model.fit(x_train,y_train)"
   ]
  },
  {
   "cell_type": "code",
   "execution_count": 195,
   "id": "1de5b335",
   "metadata": {},
   "outputs": [
    {
     "name": "stdout",
     "output_type": "stream",
     "text": [
      "1.0\n",
      "1.0\n"
     ]
    }
   ],
   "source": [
    "print(model.score(x_train,y_train))\n",
    "print(model.score(x_test,y_test))"
   ]
  },
  {
   "cell_type": "code",
   "execution_count": 196,
   "id": "40dc98a8",
   "metadata": {},
   "outputs": [],
   "source": [
    "cross_val_scores['Naive Bayes']=scores.mean()"
   ]
  },
  {
   "cell_type": "code",
   "execution_count": null,
   "id": "0bfda68c",
   "metadata": {},
   "outputs": [],
   "source": []
  },
  {
   "cell_type": "code",
   "execution_count": null,
   "id": "b3cbd232",
   "metadata": {},
   "outputs": [],
   "source": []
  },
  {
   "cell_type": "markdown",
   "id": "b3786114",
   "metadata": {},
   "source": [
    "## Evaluating models"
   ]
  },
  {
   "cell_type": "code",
   "execution_count": 197,
   "id": "7e3f6132",
   "metadata": {},
   "outputs": [
    {
     "data": {
      "text/plain": [
       "[Text(0, 0, '0.969697'),\n",
       " Text(0, 0, '0.969697'),\n",
       " Text(0, 0, '0.878788'),\n",
       " Text(0, 0, '0.984848'),\n",
       " Text(0, 0, '0.969697')]"
      ]
     },
     "execution_count": 197,
     "metadata": {},
     "output_type": "execute_result"
    },
    {
     "data": {
      "image/png": "[encoded data removed]",
      "text/plain": [
       "<Figure size 576x396 with 1 Axes>"
      ]
     },
     "metadata": {},
     "output_type": "display_data"
    }
   ],
   "source": [
    "ax=sns.barplot(x=list(cross_val_scores.keys()),y=list(cross_val_scores.values()))\n",
    "ax.bar_label(ax.containers[0])"
   ]
  },
  {
   "cell_type": "code",
   "execution_count": 198,
   "id": "2a0db43d",
   "metadata": {},
   "outputs": [
    {
     "data": {
      "text/plain": [
       "dict_values([0.9696969696969697, 0.9696969696969697, 0.8787878787878788, 0.9848484848484849, 0.9696969696969697])"
      ]
     },
     "execution_count": 198,
     "metadata": {},
     "output_type": "execute_result"
    }
   ],
   "source": [
    "cross_val_scores.values()"
   ]
  },
  {
   "cell_type": "code",
   "execution_count": null,
   "id": "cb422081",
   "metadata": {},
   "outputs": [],
   "source": []
  },
  {
   "cell_type": "markdown",
   "id": "22dd30fc",
   "metadata": {},
   "source": [
    "## Final Model"
   ]
  },
  {
   "cell_type": "code",
   "execution_count": 258,
   "id": "6f8f9f87",
   "metadata": {},
   "outputs": [
    {
     "data": {
      "text/plain": [
       "RandomForestClassifier(n_estimators=150, random_state=42)"
      ]
     },
     "execution_count": 258,
     "metadata": {},
     "output_type": "execute_result"
    }
   ],
   "source": [
    "final_model=RandomForestClassifier(n_estimators=150,random_state=42)\n",
    "final_model.fit(x_train,y_train)"
   ]
  },
  {
   "cell_type": "code",
   "execution_count": 259,
   "id": "7809f08c",
   "metadata": {},
   "outputs": [],
   "source": [
    "scores=cross_val_score(final_model,x_train,y_train,cv=3)"
   ]
  },
  {
   "cell_type": "code",
   "execution_count": 260,
   "id": "fbecff64",
   "metadata": {},
   "outputs": [
    {
     "name": "stdout",
     "output_type": "stream",
     "text": [
      "[1.         1.         0.95454545] 0.9848484848484849\n"
     ]
    }
   ],
   "source": [
    "print(scores,scores.mean())"
   ]
  },
  {
   "cell_type": "code",
   "execution_count": 261,
   "id": "1429a9eb",
   "metadata": {},
   "outputs": [
    {
     "data": {
      "text/plain": [
       "['model.pkl']"
      ]
     },
     "execution_count": 261,
     "metadata": {},
     "output_type": "execute_result"
    }
   ],
   "source": [
    "joblib.dump(final_model,'model.pkl')"
   ]
  },
  {
   "cell_type": "code",
   "execution_count": 224,
   "id": "c69fef1a",
   "metadata": {},
   "outputs": [
    {
     "data": {
      "text/plain": [
       "['std_dict.pkl']"
      ]
     },
     "execution_count": 224,
     "metadata": {},
     "output_type": "execute_result"
    }
   ],
   "source": [
    "joblib.dump(dict_crop,'dict_crop.pkl')\n",
    "joblib.dump(dict_fertilizer,'dict_fertilizer.pkl')\n",
    "joblib.dump(mean_dict,'mean_dict.pkl')\n",
    "joblib.dump(std_dict,'std_dict.pkl')"
   ]
  },
  {
   "cell_type": "code",
   "execution_count": 302,
   "id": "ab8e8d3a",
   "metadata": {},
   "outputs": [],
   "source": [
    "def predict(inp):\n",
    "    dict_crop=joblib.load('dict_crop.pkl')\n",
    "    dict_fertilizer=joblib.load('dict_fertilizer.pkl')\n",
    "    mean_dict=joblib.load('mean_dict.pkl')\n",
    "    std_dict=joblib.load('std_dict.pkl')\n",
    "    \n",
    "    ## extract input\n",
    "    \n",
    "    crop_type=inp['Crop Type']\n",
    "    Nitrogen=inp['Nitrogen']\n",
    "    Potassium=inp['Potassium']\n",
    "    Phosphorous=inp['Phosphorous']\n",
    "    \n",
    "    # normalize\n",
    "    \n",
    "    x=np.array([dict_crop[crop_type],Nitrogen,Potassium,Phosphorous])\n",
    "    x=x.astype('float64')\n",
    "#     print(x)\n",
    "    for i in range(len(x)):\n",
    "        x[i]=x[i]-mean_dict[i]\n",
    "        x[i]=x[i]/std_dict[i]\n",
    "    test=np.array([x])\n",
    "#     print(test,test.shape)\n",
    "    model=joblib.load('model.pkl')\n",
    "    no=int(model.predict(test))\n",
    "    rev = {v: k for k, v in dict_fertilizer.items()}\n",
    "#     print(rev)\n",
    "#     print(rev[no])\n",
    "    return rev[no]\n",
    "\n",
    "    "
   ]
  },
  {
   "cell_type": "code",
   "execution_count": 303,
   "id": "f4cbc14e",
   "metadata": {},
   "outputs": [
    {
     "name": "stdout",
     "output_type": "stream",
     "text": [
      "Urea\n"
     ]
    }
   ],
   "source": [
    "dict={'Crop Type':'Cotton','Nitrogen':102,'Potassium':19,'Phosphorous':29}\n",
    "print(predict(dict))"
   ]
  },
  {
   "cell_type": "code",
   "execution_count": null,
   "id": "ea0955eb",
   "metadata": {},
   "outputs": [],
   "source": []
  },
  {
   "cell_type": "code",
   "execution_count": null,
   "id": "3095f2ce",
   "metadata": {},
   "outputs": [],
   "source": []
  },
  {
   "cell_type": "code",
   "execution_count": null,
   "id": "62d5b3a2",
   "metadata": {},
   "outputs": [],
   "source": []
  },
  {
   "cell_type": "markdown",
   "id": "63828709",
   "metadata": {},
   "source": [
    "### Final Testing"
   ]
  },
  {
   "cell_type": "code",
   "execution_count": 305,
   "id": "f7213701",
   "metadata": {},
   "outputs": [
    {
     "data": {
      "text/plain": [
       "Index(['Temparature', 'Humidity ', 'Moisture', 'Soil Type', 'Crop Type',\n",
       "       'Nitrogen', 'Potassium', 'Phosphorous', 'Fertilizer Name'],\n",
       "      dtype='object')"
      ]
     },
     "execution_count": 305,
     "metadata": {},
     "output_type": "execute_result"
    }
   ],
   "source": [
    "data=pd.read_csv(\"Dataset/fertilizer/Fertilizer Prediction.csv\")\n",
    "data.columns"
   ]
  },
  {
   "cell_type": "code",
   "execution_count": 306,
   "id": "d98ffd0a",
   "metadata": {},
   "outputs": [
    {
     "name": "stdout",
     "output_type": "stream",
     "text": [
      "Urea Urea\n",
      "DAP DAP\n",
      "14-35-14 14-35-14\n",
      "28-28 28-28\n",
      "Urea Urea\n",
      "17-17-17 17-17-17\n",
      "20-20 20-20\n",
      "Urea Urea\n",
      "28-28 28-28\n",
      "14-35-14 14-35-14\n",
      "DAP DAP\n",
      "17-17-17 17-17-17\n",
      "Urea Urea\n",
      "28-28 28-28\n",
      "DAP DAP\n",
      "17-17-17 17-17-17\n",
      "Urea Urea\n",
      "28-28 28-28\n",
      "Urea Urea\n",
      "DAP DAP\n",
      "20-20 20-20\n",
      "17-17-17 17-17-17\n",
      "DAP DAP\n",
      "Urea Urea\n",
      "20-20 20-20\n",
      "28-28 28-28\n",
      "14-35-14 14-35-14\n",
      "Urea Urea\n",
      "DAP DAP\n",
      "20-20 20-20\n",
      "28-28 28-28\n",
      "DAP DAP\n",
      "Urea Urea\n",
      "14-35-14 14-35-14\n",
      "28-28 28-28\n",
      "Urea Urea\n",
      "14-35-14 14-35-14\n",
      "DAP DAP\n",
      "17-17-17 17-17-17\n",
      "DAP DAP\n",
      "20-20 20-20\n",
      "14-35-14 14-35-14\n",
      "28-28 28-28\n",
      "Urea Urea\n",
      "DAP DAP\n",
      "14-35-14 14-35-14\n",
      "20-20 20-20\n",
      "28-28 28-28\n",
      "Urea Urea\n",
      "14-35-14 14-35-14\n",
      "28-28 28-28\n",
      "20-20 20-20\n",
      "Urea Urea\n",
      "DAP DAP\n",
      "17-17-17 17-17-17\n",
      "28-28 28-28\n",
      "Urea Urea\n",
      "20-20 20-20\n",
      "17-17-17 17-17-17\n",
      "DAP DAP\n",
      "Urea Urea\n",
      "20-20 20-20\n",
      "28-28 28-28\n",
      "10-26-26 10-26-26\n",
      "Urea Urea\n",
      "DAP DAP\n",
      "20-20 20-20\n",
      "14-35-14 14-35-14\n",
      "10-26-26 10-26-26\n",
      "20-20 20-20\n",
      "28-28 28-28\n",
      "Urea Urea\n",
      "28-28 28-28\n",
      "Urea Urea\n",
      "DAP DAP\n",
      "14-35-14 14-35-14\n",
      "28-28 28-28\n",
      "20-20 20-20\n",
      "10-26-26 10-26-26\n",
      "DAP DAP\n",
      "14-35-14 14-35-14\n",
      "Urea Urea\n",
      "DAP DAP\n",
      "20-20 20-20\n",
      "28-28 28-28\n",
      "14-35-14 14-35-14\n",
      "10-26-26 10-26-26\n",
      "Urea Urea\n",
      "10-26-26 10-26-26\n",
      "DAP DAP\n",
      "14-35-14 14-35-14\n",
      "10-26-26 10-26-26\n",
      "Urea Urea\n",
      "14-35-14 14-35-14\n",
      "28-28 28-28\n",
      "10-26-26 10-26-26\n",
      "Urea Urea\n",
      "DAP DAP\n",
      "20-20 20-20\n"
     ]
    }
   ],
   "source": [
    "data=np.array(data)\n",
    "for x in data:\n",
    "    dict={'Crop Type':x[4],'Nitrogen':x[5],'Potassium':x[6],'Phosphorous':x[7]}\n",
    "    print(x[8],predict(dict))\n",
    "    "
   ]
  },
  {
   "cell_type": "code",
   "execution_count": null,
   "id": "0dd36df7",
   "metadata": {},
   "outputs": [],
   "source": []
  }
 ],
 "metadata": {
  "kernelspec": {
   "display_name": "Python 3 (ipykernel)",
   "language": "python",
   "name": "python3"
  },
  "language_info": {
   "codemirror_mode": {
    "name": "ipython",
    "version": 3
   },
   "file_extension": ".py",
   "mimetype": "text/x-python",
   "name": "python",
   "nbconvert_exporter": "python",
   "pygments_lexer": "ipython3",
   "version": "3.9.7"
  }
 },
 "nbformat": 4,
 "nbformat_minor": 5
}
